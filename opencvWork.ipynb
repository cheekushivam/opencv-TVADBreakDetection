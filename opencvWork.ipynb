{
 "cells": [
  {
   "cell_type": "code",
   "execution_count": 2,
   "metadata": {},
   "outputs": [],
   "source": [
    "# Importing Required Libraries \n",
    "\n",
    "import cv2\n",
    "import argparse\n",
    "import numpy as np\n",
    "import matplotlib.pyplot as plt"
   ]
  },
  {
   "cell_type": "code",
   "execution_count": null,
   "metadata": {},
   "outputs": [],
   "source": [
    "# Code For Selecting the Cordinates of the template to be used\n",
    "# We have to Select Two points in the image that will capture the rectangle part of the image made out from those selected points \n",
    "\n",
    "ref_point = []\n",
    "cropping = False\n",
    "\n",
    "def shape_selection(event, x, y, flags, param):  \n",
    "  global ref_point, cropping\n",
    "\n",
    "  if event == cv2.EVENT_LBUTTONDOWN:\n",
    "    ref_point = [(x, y)]\n",
    "    cropping = True\n",
    "  \n",
    "  elif event == cv2.EVENT_LBUTTONUP:\n",
    "    \n",
    "    ref_point.append((x, y))\n",
    "    cropping = False\n",
    "    cv2.rectangle(image, ref_point[0], ref_point[1], (0, 255, 0), 2)\n",
    "    cv2.imshow(\"image\", image)\n",
    "\n",
    "image = cv2.imread('indiatoday.png')\n",
    "clone = image.copy()\n",
    "cv2.namedWindow(\"image\")\n",
    "cv2.setMouseCallback(\"image\", shape_selection)\n",
    "\n",
    "while True:\n",
    "    cv2.imshow(\"image\", image)\n",
    "    key = cv2.waitKey(1) & 0xFF\n",
    "    if key == ord(\"r\"):\n",
    "        image = clone.copy()    \n",
    "    elif key == ord(\"c\"):\n",
    "        break\n",
    "        \n",
    "if len(ref_point) == 2:\n",
    "    crop_img = clone[ref_point[0][1]:ref_point[1][1], ref_point[0][0]:ref_point[1][0]]\n",
    "    cv2.waitKey(10000)\n",
    "    print(ref_point)\n",
    "\n",
    "cv2.destroyAllWindows()"
   ]
  },
  {
   "cell_type": "code",
   "execution_count": 11,
   "metadata": {},
   "outputs": [],
   "source": [
    "# TV ADBreak Detection Function\n",
    "\n",
    "def tvAdBreakDetection(templateImage,rtmpURL,coordTemplate):\n",
    "    sec = 0\n",
    "    count = 1\n",
    "    frameRate = 0.3 #Defines After how many seconds a picture must be captured\n",
    "    x_offset=y_offset=150 # cordinates for watermark\n",
    "    capture = cv2.VideoCapture(rtmpURL)\n",
    "    capture.set(cv2.CAP_PROP_POS_MSEC,sec*1000) #Setting For Capturing Image\n",
    "    success,frame = capture.read()\n",
    "    template = cv2.imread(templateImage, cv2.IMREAD_GRAYSCALE)\n",
    "    template = template[coordTemplate[0][1]:coordTemplate[1][1], coordTemplate[0][0]:coordTemplate[1][0]]\n",
    "    w, h = template.shape[::-1]\n",
    "    threshold = 0.8\n",
    "    while success:\n",
    "        sec = sec + frameRate\n",
    "        sec = round(sec, 2)\n",
    "        capture.set(cv2.CAP_PROP_POS_MSEC,sec*1000)\n",
    "        success,frame = capture.read()\n",
    "        if success is False:\n",
    "            capture.release()\n",
    "            capture = cv2.VideoCapture(rtmpURL)\n",
    "            capture.set(cv2.CAP_PROP_FPS,1) #Setting For Capturing Image\n",
    "            success,frame = capture.read()   \n",
    "        gray_frame = cv2.cvtColor(frame,cv2.COLOR_BGR2GRAY)\n",
    "        matchResult = cv2.matchTemplate(gray_frame,template,cv2.TM_CCOEFF_NORMED)\n",
    "        frame[y_offset:y_offset+noAdFinalImage.shape[0], x_offset:x_offset+noAdFinalImage.shape[1]] = noAdFinalImage\n",
    "        loc = np.where(matchResult >= threshold)\n",
    "        for points in zip(*loc[::-1]):\n",
    "            cv2.rectangle(frame,points,(points[0] + w, points[1] + h), (0, 255, 0), 3) #Rectangle drawn over part of template matched\n",
    "            frame[y_offset:y_offset+adFinalImage.shape[0], x_offset:x_offset+adFinalImage.shape[1]] = adFinalImage\n",
    "        cv2.imshow(\"Frame\", frame)\n",
    "        cv2.imwrite(\"Frame%d.jpg\" % count, frame)\n",
    "        count = count + 1\n",
    "        key = cv2.waitKey(1000)\n",
    "        if key == ord(\"x\"):\n",
    "            break\n",
    "    capture.release()\n",
    "    cv2.destroyAllWindows()    "
   ]
  },
  {
   "cell_type": "code",
   "execution_count": 12,
   "metadata": {},
   "outputs": [],
   "source": [
    "# Calling of TV ADBreak Detection Function\n",
    "\n",
    "rtmpURL = 'rtmp://vidpush-ind.vidgyor.com/it-src/srclive_pc' #Provide URL For Live Stream\n",
    "templateImage = 'indiatoday.png' # Template Image Source\n",
    "coordTemplate = [(65, 31), (289, 58)] # Calculated From Above Code\n",
    "adFinalImage = cv2.imread(\"ad-final.JPG\") # WaterMark For Ad\n",
    "noAdFinalImage = cv2.imread(\"no-adfinal.JPG\") # Watermark For Live\n",
    "tvAdBreakDetection(templateImage,rtmpURL,coordTemplate) # Function call"
   ]
  }
 ],
 "metadata": {
  "kernelspec": {
   "display_name": "Python 3",
   "language": "python",
   "name": "python3"
  },
  "language_info": {
   "codemirror_mode": {
    "name": "ipython",
    "version": 3
   },
   "file_extension": ".py",
   "mimetype": "text/x-python",
   "name": "python",
   "nbconvert_exporter": "python",
   "pygments_lexer": "ipython3",
   "version": "3.6.8"
  }
 },
 "nbformat": 4,
 "nbformat_minor": 2
}
